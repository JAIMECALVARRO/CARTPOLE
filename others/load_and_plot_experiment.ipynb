{
 "cells": [
  {
   "attachments": {},
   "cell_type": "markdown",
   "metadata": {},
   "source": [
    "### Load a cartpole recording from csv and plot it"
   ]
  },
  {
   "cell_type": "code",
   "execution_count": null,
   "metadata": {},
   "outputs": [],
   "source": [
    "import numpy as np\n",
    "import os, sys\n",
    "import matplotlib.pyplot as plt\n",
    "plt.rcParams['axes.xmargin'] = 0\n",
    "plt.style.use([\"science\"])\n",
    "if os.path.basename(os.getcwd()) == \"others\":\n",
    "    os.chdir(\"..\")\n",
    "sys.path.insert(0, os.getcwd())\n"
   ]
  },
  {
   "cell_type": "code",
   "execution_count": null,
   "metadata": {},
   "outputs": [],
   "source": [
    "sys.path"
   ]
  },
  {
   "cell_type": "code",
   "execution_count": null,
   "metadata": {},
   "outputs": [],
   "source": [
    "from CartPole.load import load_csv_recording\n",
    "dfs_to_plot = []\n",
    "dfs_to_plot.append(load_csv_recording(\"Experiment_Recordings/Data for Thesis/CP_mpcmppi_2022-12-12_11-08-32 balance.csv\"))\n",
    "dfs_to_plot.append(load_csv_recording(\"Experiment_Recordings/Data for Thesis/CP_mpcrpgd-tf_2022-12-12_11-10-56 balance.csv\"))\n"
   ]
  },
  {
   "cell_type": "code",
   "execution_count": null,
   "metadata": {},
   "outputs": [],
   "source": [
    "### Set time indices\n",
    "x_range = np.arange(0, 700)\n",
    "keys=[\"MPPI\", \"RPGD\"]\n",
    "styles = [\"b\", \"g\"]"
   ]
  },
  {
   "cell_type": "code",
   "execution_count": null,
   "metadata": {},
   "outputs": [],
   "source": [
    "fig, (ax1, ax2, ax3) = plt.subplots(nrows=3, ncols=1, figsize=(14, 8), sharex=True, dpi=300.0)\n",
    "ax1.grid(linestyle='--'), ax2.grid(linestyle='--'), ax3.grid(linestyle='--')\n",
    "\n",
    "for k, p, c in zip(keys, dfs_to_plot, styles):\n",
    "    sliced_data = p.iloc[x_range,:]\n",
    "    pos_cm = 100*sliced_data[\"position\"].to_numpy()\n",
    "    target_pos_cm = 100*sliced_data[\"target_position\"].to_numpy()\n",
    "    angle_rad = sliced_data[\"angle\"].to_numpy()\n",
    "    cmd_normed = sliced_data[\"Q\"].to_numpy()\n",
    "\n",
    "    t_range_ms = sliced_data[\"time\"].to_numpy()\n",
    "    t_range_ms -= t_range_ms[0]\n",
    "\n",
    "    ax1.plot(t_range_ms, pos_cm, c, label=k)\n",
    "    ax2.plot(t_range_ms, angle_rad, c, label=k)\n",
    "    ax3.plot(t_range_ms, cmd_normed, c, label=k)\n",
    "\n",
    "ax1.plot(t_range_ms, target_pos_cm, \"r--\", label=\"target position\")\n",
    "ax2.plot(t_range_ms, np.zeros_like(angle_rad), \"r--\", label=\"upright balance\")\n",
    "\n",
    "ax1.legend(loc=\"upper right\", fontsize=\"xx-small\", frameon=True, facecolor=\"w\")\n",
    "ax2.legend(loc=\"upper right\", fontsize=\"xx-small\", frameon=True, facecolor=\"w\")\n",
    "ax3.legend(loc=\"upper right\", fontsize=\"xx-small\", frameon=True, facecolor=\"w\")\n",
    "\n",
    "fig.suptitle(\"Simulated Cartpole Recording with GRU System Model\")\n",
    "ax3.set_xlabel(\"time (s)\")\n",
    "ax1.set_ylabel(\"position (cm)\")\n",
    "ax2.set_ylabel(\"angle (rad)\")\n",
    "ax3.set_ylabel(r\"control $u_k$\")\n",
    "\n",
    "ax2.set_ylim(-np.pi, np.pi)\n",
    "\n",
    "fig.align_ylabels()\n",
    "fig.tight_layout(pad=1.0)"
   ]
  },
  {
   "cell_type": "code",
   "execution_count": null,
   "metadata": {},
   "outputs": [],
   "source": []
  }
 ],
 "metadata": {
  "kernelspec": {
   "display_name": ".env",
   "language": "python",
   "name": "python3"
  },
  "language_info": {
   "codemirror_mode": {
    "name": "ipython",
    "version": 3
   },
   "file_extension": ".py",
   "mimetype": "text/x-python",
   "name": "python",
   "nbconvert_exporter": "python",
   "pygments_lexer": "ipython3",
   "version": "3.9.7 (v3.9.7:1016ef3790, Aug 30 2021, 16:39:15) \n[Clang 6.0 (clang-600.0.57)]"
  },
  "orig_nbformat": 4,
  "vscode": {
   "interpreter": {
    "hash": "1c2badee0ee7fd8010636aa6a78629c800f776bbfba7e6cedb5e2b4ba742b670"
   }
  }
 },
 "nbformat": 4,
 "nbformat_minor": 2
}
