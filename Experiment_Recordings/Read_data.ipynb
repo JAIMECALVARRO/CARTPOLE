{
 "cells": [
  {
   "cell_type": "markdown",
   "metadata": {},
   "source": [
    "#### Imports"
   ]
  },
  {
   "cell_type": "code",
   "execution_count": 37,
   "metadata": {},
   "outputs": [],
   "source": [
    "import numpy as np\n",
    "import matplotlib.pyplot as plt"
   ]
  },
  {
   "cell_type": "markdown",
   "metadata": {},
   "source": [
    "#### Data generation"
   ]
  },
  {
   "cell_type": "code",
   "execution_count": 38,
   "metadata": {},
   "outputs": [
    {
     "name": "stdout",
     "output_type": "stream",
     "text": [
      "Half pole length :  ['# L: 0.1975']\n",
      "Recorded data:  ['time', 'angle', 'angleD', 'angleDD', 'angle_cos', 'angle_sin', 'position', 'positionD', 'positionDD', 'Q', 'u', 'target_position']\n"
     ]
    }
   ],
   "source": [
    "import csv\n",
    "filename = 'Experiment-1.csv'\n",
    "with open(filename) as csvdatei:\n",
    "    csv_reader_object = csv.reader(csvdatei)\n",
    "    row = list(csv_reader_object)\n",
    "print('Half pole length : ', row[30])\n",
    "print('Recorded data: ', row[54])\n",
    "\n",
    "data = np.genfromtxt(filename, skip_header=55, delimiter=',')"
   ]
  },
  {
   "cell_type": "code",
   "execution_count": 39,
   "metadata": {},
   "outputs": [
    {
     "data": {
      "image/png": "[encoded data removed]",
      "text/plain": [
       "<Figure size 432x288 with 1 Axes>"
      ]
     },
     "metadata": {
      "needs_background": "light"
     },
     "output_type": "display_data"
    }
   ],
   "source": [
    "time = data[:,0]\n",
    "angle = data[:,1]*180/np.pi\n",
    "\n",
    "plt.figure()\n",
    "plt.plot(time, angle, '.',markersize=3, label='angle')\n",
    "plt.xlabel('time /s')\n",
    "plt.show()\n"
   ]
  },
  {
   "cell_type": "code",
   "execution_count": null,
   "metadata": {},
   "outputs": [],
   "source": []
  }
 ],
 "metadata": {
  "interpreter": {
   "hash": "a0c258655251a15d91f6fb681fb5d113482448cd2165bae448311b3236693383"
  },
  "kernelspec": {
   "display_name": "Python 3.9.7 ('base')",
   "language": "python",
   "name": "python3"
  },
  "language_info": {
   "codemirror_mode": {
    "name": "ipython",
    "version": 3
   },
   "file_extension": ".py",
   "mimetype": "text/x-python",
   "name": "python",
   "nbconvert_exporter": "python",
   "pygments_lexer": "ipython3",
   "version": "3.9.7"
  },
  "orig_nbformat": 4
 },
 "nbformat": 4,
 "nbformat_minor": 2
}
